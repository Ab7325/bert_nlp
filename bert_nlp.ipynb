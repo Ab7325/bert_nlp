{
 "cells": [
  {
   "cell_type": "markdown",
   "id": "d8690d3d",
   "metadata": {},
   "source": [
    "# BERT NLP"
   ]
  },
  {
   "cell_type": "markdown",
   "id": "1727f764-e7e0-44e5-83b9-ff0f49b56e3f",
   "metadata": {},
   "source": [
    "BERT—short for Bidirectional Encoder Representations from Transformers—was unveiled by Google in 2018 as a truly transformative language model.\n",
    "BERT has two applications:\n",
    "1. Predicting a missing word(masked word) from a sentence.\n",
    "2. It is used for Question-Answer reasoning wherein the output answer is selected as a span of the context provided.\n",
    "\n",
    "We will try out both capabilities of the model."
   ]
  },
  {
   "cell_type": "markdown",
   "id": "ec4bde2a",
   "metadata": {},
   "source": [
    "## 1. Tokenisation"
   ]
  },
  {
   "cell_type": "code",
   "execution_count": null,
   "id": "4f742f66",
   "metadata": {},
   "outputs": [],
   "source": [
    "import torch\n",
    "import matplotlib.pyplot as plt\n",
    "from transformers import BertTokenizer, BertModel, BertForMaskedLM, BertForQuestionAnswering"
   ]
  },
  {
   "cell_type": "code",
   "execution_count": 3,
   "id": "ae96a259",
   "metadata": {},
   "outputs": [
    {
     "data": {
      "text/plain": [
       "device(type='cpu')"
      ]
     },
     "execution_count": 3,
     "metadata": {},
     "output_type": "execute_result"
    }
   ],
   "source": [
    "device = torch.device(\"cuda\" if torch.cuda.is_available() else \"cpu\")\n",
    "device"
   ]
  },
  {
   "cell_type": "code",
   "execution_count": 4,
   "id": "99786a2b",
   "metadata": {},
   "outputs": [
    {
     "data": {
      "text/plain": [
       "28996"
      ]
     },
     "execution_count": 4,
     "metadata": {},
     "output_type": "execute_result"
    }
   ],
   "source": [
    "#Creating bert tokeniser\n",
    "tokenizer = BertTokenizer.from_pretrained('bert-base-cased')\n",
    "tokenizer.vocab_size"
   ]
  },
  {
   "cell_type": "code",
   "execution_count": 5,
   "id": "27aa84aa",
   "metadata": {},
   "outputs": [],
   "source": [
    "#Sample texts\n",
    "text_1 = \"I am good at both chess and boxing\"\n",
    "text_2 = \"What am I good at?\""
   ]
  },
  {
   "cell_type": "code",
   "execution_count": 6,
   "id": "2aecf4cd",
   "metadata": {},
   "outputs": [
    {
     "data": {
      "text/plain": [
       "[101,\n",
       " 146,\n",
       " 1821,\n",
       " 1363,\n",
       " 1120,\n",
       " 1241,\n",
       " 10924,\n",
       " 1105,\n",
       " 10568,\n",
       " 102,\n",
       " 1327,\n",
       " 1821,\n",
       " 146,\n",
       " 1363,\n",
       " 1120,\n",
       " 136,\n",
       " 102]"
      ]
     },
     "execution_count": 6,
     "metadata": {},
     "output_type": "execute_result"
    }
   ],
   "source": [
    "# Tokenization with special tokens: [CLS] at beginning and [SEP] at end\n",
    "indexed_tokens = tokenizer.encode(text_1, text_2, add_special_tokens=True)\n",
    "indexed_tokens"
   ]
  },
  {
   "cell_type": "code",
   "execution_count": 7,
   "id": "137eacbe",
   "metadata": {},
   "outputs": [
    {
     "data": {
      "text/plain": [
       "['[CLS]',\n",
       " 'I',\n",
       " 'am',\n",
       " 'good',\n",
       " 'at',\n",
       " 'both',\n",
       " 'chess',\n",
       " 'and',\n",
       " 'boxing',\n",
       " '[SEP]',\n",
       " 'What',\n",
       " 'am',\n",
       " 'I',\n",
       " 'good',\n",
       " 'at',\n",
       " '?',\n",
       " '[SEP]']"
      ]
     },
     "execution_count": 7,
     "metadata": {},
     "output_type": "execute_result"
    }
   ],
   "source": [
    "tokens = tokenizer.convert_ids_to_tokens(indexed_tokens)\n",
    "tokens"
   ]
  },
  {
   "cell_type": "code",
   "execution_count": 9,
   "id": "2dd548f8",
   "metadata": {},
   "outputs": [
    {
     "data": {
      "text/plain": [
       "'[CLS] I am good at both chess and boxing [SEP] What am I good at? [SEP]'"
      ]
     },
     "execution_count": 9,
     "metadata": {},
     "output_type": "execute_result"
    }
   ],
   "source": [
    "decoded_text = tokenizer.decode(indexed_tokens)\n",
    "decoded_text"
   ]
  },
  {
   "cell_type": "markdown",
   "id": "b54bfa14",
   "metadata": {},
   "source": [
    "## 2. Segmentation of the text"
   ]
  },
  {
   "cell_type": "code",
   "execution_count": 10,
   "id": "8d854753",
   "metadata": {},
   "outputs": [
    {
     "data": {
      "text/plain": [
       "102"
      ]
     },
     "execution_count": 10,
     "metadata": {},
     "output_type": "execute_result"
    }
   ],
   "source": [
    "cls_token_id = tokenizer.cls_token_id  # [CLS] token\n",
    "sep_token_id = tokenizer.sep_token_id  # [SEP] token\n",
    "sep_token_id"
   ]
  },
  {
   "cell_type": "code",
   "execution_count": 11,
   "id": "dab3f896",
   "metadata": {},
   "outputs": [],
   "source": [
    "def get_segment_ids(indexed_tokens, sep_token_id=102):\n",
    "    \"\"\"\n",
    "    Create segment IDs to distinguish between different text segments.\n",
    "    \n",
    "    Args:\n",
    "        indexed_tokens: List of token IDs\n",
    "        sep_token_id: ID of the separator token\n",
    "        \n",
    "    Returns:\n",
    "        segment_ids_tensor: Tensor of segment IDs\n",
    "        tokens_tensor: Tensor of token IDs\n",
    "    \"\"\"\n",
    "    segment_ids = []\n",
    "    segment_id = 0\n",
    "    \n",
    "    for token in indexed_tokens:\n",
    "        if token == sep_token_id:\n",
    "            segment_id += 1\n",
    "        segment_ids.append(segment_id)\n",
    "    \n",
    "    # Last [SEP] token is not considered\n",
    "    segment_ids[-1] = segment_ids[-1] - 1\n",
    "    \n",
    "    # Convert to tensors\n",
    "    segment_ids_tensor = torch.tensor([segment_ids]).to(device)\n",
    "    tokens_tensor = torch.tensor([indexed_tokens]).to(device)\n",
    "    \n",
    "    return segment_ids_tensor, tokens_tensor\n"
   ]
  },
  {
   "cell_type": "code",
   "execution_count": 12,
   "id": "764de907",
   "metadata": {},
   "outputs": [],
   "source": [
    "segments_tensors, tokens_tensor = get_segment_ids(indexed_tokens, sep_token_id)"
   ]
  },
  {
   "cell_type": "markdown",
   "id": "a30c5b8a-2308-4f5c-9ad8-87c5bf4e7579",
   "metadata": {},
   "source": [
    "## 3. Masked Language Modeling"
   ]
  },
  {
   "cell_type": "code",
   "execution_count": 15,
   "id": "6a4707d5-235b-4dad-aa0d-9a2cc2f58647",
   "metadata": {},
   "outputs": [
    {
     "data": {
      "text/plain": [
       "'[MASK]'"
      ]
     },
     "execution_count": 15,
     "metadata": {},
     "output_type": "execute_result"
    }
   ],
   "source": [
    "tokenizer.mask_token"
   ]
  },
  {
   "cell_type": "code",
   "execution_count": 18,
   "id": "91070801-6c96-48f0-8787-9176d50ccc6c",
   "metadata": {},
   "outputs": [
    {
     "data": {
      "text/plain": [
       "103"
      ]
     },
     "execution_count": 18,
     "metadata": {},
     "output_type": "execute_result"
    }
   ],
   "source": [
    "tokenizer.mask_token_id"
   ]
  },
  {
   "cell_type": "code",
   "execution_count": 19,
   "id": "f3eed348-e849-461d-ac4d-ea0beff8dc00",
   "metadata": {},
   "outputs": [],
   "source": [
    "masked_index = 5\n",
    "masked_tokens = indexed_tokens.copy()\n",
    "masked_tokens[masked_index] = tokenizer.mask_token_id"
   ]
  },
  {
   "cell_type": "code",
   "execution_count": 20,
   "id": "2ffd5996-7b40-4686-8943-b30c06c9d94b",
   "metadata": {},
   "outputs": [
    {
     "data": {
      "text/plain": [
       "'[CLS] I am good at [MASK] chess and boxing [SEP] What am I good at? [SEP]'"
      ]
     },
     "execution_count": 20,
     "metadata": {},
     "output_type": "execute_result"
    }
   ],
   "source": [
    "masked_text = tokenizer.decode(masked_tokens)\n",
    "masked_text"
   ]
  },
  {
   "cell_type": "code",
   "execution_count": 21,
   "id": "bbab1471-0d2c-495d-87c5-e7e176ecae10",
   "metadata": {},
   "outputs": [],
   "source": [
    "masked_tokens_tensor = torch.tensor([masked_tokens]).to(device)"
   ]
  },
  {
   "cell_type": "code",
   "execution_count": 22,
   "id": "e53535de-c5e4-441b-82b2-8cfce9cc9cac",
   "metadata": {},
   "outputs": [
    {
     "name": "stderr",
     "output_type": "stream",
     "text": [
      "Some weights of the model checkpoint at bert-base-cased were not used when initializing BertForMaskedLM: ['bert.pooler.dense.bias', 'bert.pooler.dense.weight', 'cls.seq_relationship.bias', 'cls.seq_relationship.weight']\n",
      "- This IS expected if you are initializing BertForMaskedLM from the checkpoint of a model trained on another task or with another architecture (e.g. initializing a BertForSequenceClassification model from a BertForPreTraining model).\n",
      "- This IS NOT expected if you are initializing BertForMaskedLM from the checkpoint of a model that you expect to be exactly identical (initializing a BertForSequenceClassification model from a BertForSequenceClassification model).\n"
     ]
    },
    {
     "data": {
      "text/plain": [
       "BertForMaskedLM(\n",
       "  (bert): BertModel(\n",
       "    (embeddings): BertEmbeddings(\n",
       "      (word_embeddings): Embedding(28996, 768, padding_idx=0)\n",
       "      (position_embeddings): Embedding(512, 768)\n",
       "      (token_type_embeddings): Embedding(2, 768)\n",
       "      (LayerNorm): LayerNorm((768,), eps=1e-12, elementwise_affine=True)\n",
       "      (dropout): Dropout(p=0.1, inplace=False)\n",
       "    )\n",
       "    (encoder): BertEncoder(\n",
       "      (layer): ModuleList(\n",
       "        (0-11): 12 x BertLayer(\n",
       "          (attention): BertAttention(\n",
       "            (self): BertSdpaSelfAttention(\n",
       "              (query): Linear(in_features=768, out_features=768, bias=True)\n",
       "              (key): Linear(in_features=768, out_features=768, bias=True)\n",
       "              (value): Linear(in_features=768, out_features=768, bias=True)\n",
       "              (dropout): Dropout(p=0.1, inplace=False)\n",
       "            )\n",
       "            (output): BertSelfOutput(\n",
       "              (dense): Linear(in_features=768, out_features=768, bias=True)\n",
       "              (LayerNorm): LayerNorm((768,), eps=1e-12, elementwise_affine=True)\n",
       "              (dropout): Dropout(p=0.1, inplace=False)\n",
       "            )\n",
       "          )\n",
       "          (intermediate): BertIntermediate(\n",
       "            (dense): Linear(in_features=768, out_features=3072, bias=True)\n",
       "            (intermediate_act_fn): GELUActivation()\n",
       "          )\n",
       "          (output): BertOutput(\n",
       "            (dense): Linear(in_features=3072, out_features=768, bias=True)\n",
       "            (LayerNorm): LayerNorm((768,), eps=1e-12, elementwise_affine=True)\n",
       "            (dropout): Dropout(p=0.1, inplace=False)\n",
       "          )\n",
       "        )\n",
       "      )\n",
       "    )\n",
       "  )\n",
       "  (cls): BertOnlyMLMHead(\n",
       "    (predictions): BertLMPredictionHead(\n",
       "      (transform): BertPredictionHeadTransform(\n",
       "        (dense): Linear(in_features=768, out_features=768, bias=True)\n",
       "        (transform_act_fn): GELUActivation()\n",
       "        (LayerNorm): LayerNorm((768,), eps=1e-12, elementwise_affine=True)\n",
       "      )\n",
       "      (decoder): Linear(in_features=768, out_features=28996, bias=True)\n",
       "    )\n",
       "  )\n",
       ")"
      ]
     },
     "execution_count": 22,
     "metadata": {},
     "output_type": "execute_result"
    }
   ],
   "source": [
    "masked_lm_model = BertForMaskedLM.from_pretrained(\"bert-base-cased\").to(device)\n",
    "masked_lm_model.eval()"
   ]
  },
  {
   "cell_type": "code",
   "execution_count": 24,
   "id": "f56134e3-e45a-4c9a-b036-9b8287809496",
   "metadata": {},
   "outputs": [
    {
     "data": {
      "text/plain": [
       "torch.Size([28996, 768])"
      ]
     },
     "execution_count": 24,
     "metadata": {},
     "output_type": "execute_result"
    }
   ],
   "source": [
    "embedding_table = next(masked_lm_model.bert.embeddings.word_embeddings.parameters())\n",
    "embedding_table.shape"
   ]
  },
  {
   "cell_type": "code",
   "execution_count": 26,
   "id": "1c59906c-49cb-4067-8b08-0f52be51b66b",
   "metadata": {},
   "outputs": [],
   "source": [
    "with torch.no_grad():\n",
    "    outputs = masked_lm_model(masked_tokens_tensor, token_type_ids=segments_tensors)\n",
    "    predictions = outputs.logits"
   ]
  },
  {
   "cell_type": "code",
   "execution_count": 27,
   "id": "d062268e-cf4b-4d00-8bc0-a5509f11523a",
   "metadata": {},
   "outputs": [],
   "source": [
    "#Getting the top predicted tokens for the masked position\n",
    "masked_token_logits = predictions[0, masked_index]\n",
    "masked_token_scores = torch.nn.functional.softmax(masked_token_logits, dim=0) #Using softmax scores for giving probability scores"
   ]
  },
  {
   "cell_type": "code",
   "execution_count": 28,
   "id": "bf1e0d44-131c-4662-b8d3-e6052db35c4a",
   "metadata": {},
   "outputs": [],
   "source": [
    "#Getting the top 5 predictions\n",
    "top_k = 5\n",
    "top_indices = torch.topk(masked_token_scores, top_k).indices.tolist()\n",
    "top_tokens = tokenizer.convert_ids_to_tokens(top_indices)\n",
    "top_probs = torch.topk(masked_token_scores, top_k).values.tolist()"
   ]
  },
  {
   "cell_type": "code",
   "execution_count": 29,
   "id": "bda86e11-e5a6-4a1e-8773-0b3de67b16eb",
   "metadata": {},
   "outputs": [
    {
     "data": {
      "text/plain": [
       "'both'"
      ]
     },
     "execution_count": 29,
     "metadata": {},
     "output_type": "execute_result"
    }
   ],
   "source": [
    "tokens[masked_index]"
   ]
  },
  {
   "cell_type": "code",
   "execution_count": 30,
   "id": "8fa7206b-2942-4f4f-b814-a52bd6c7e52b",
   "metadata": {},
   "outputs": [
    {
     "name": "stdout",
     "output_type": "stream",
     "text": [
      "  playing: 0.925957\n",
      "  both: 0.014655\n",
      "  fighting: 0.008181\n",
      "  the: 0.002335\n",
      "  chess: 0.002211\n"
     ]
    }
   ],
   "source": [
    "for token, prob in zip(top_tokens, top_probs):\n",
    "    print(f\"  {token}: {prob:f}\")"
   ]
  },
  {
   "cell_type": "code",
   "execution_count": 32,
   "id": "e338eb47-509d-41ba-819e-d42d90080676",
   "metadata": {},
   "outputs": [
    {
     "data": {
      "text/plain": [
       "'playing'"
      ]
     },
     "execution_count": 32,
     "metadata": {},
     "output_type": "execute_result"
    }
   ],
   "source": [
    "#Seeing the most probable token according to BERT\n",
    "predicted_index = torch.argmax(predictions[0, masked_index]).item()\n",
    "predicted_token = tokenizer.convert_ids_to_tokens([predicted_index])[0]\n",
    "predicted_token"
   ]
  },
  {
   "cell_type": "code",
   "execution_count": 38,
   "id": "f4ba06f7-f653-47f2-901c-00aef9a6a794",
   "metadata": {},
   "outputs": [
    {
     "data": {
      "image/png": "[encoded data removed]",
      "text/plain": [
       "<Figure size 1000x500 with 1 Axes>"
      ]
     },
     "metadata": {},
     "output_type": "display_data"
    }
   ],
   "source": [
    "#Visualisation\n",
    "plt.figure(figsize=(10, 5))\n",
    "plt.bar(range(top_k), top_probs, align='center')\n",
    "plt.xticks(range(top_k), top_tokens, rotation=45)\n",
    "plt.ylabel('Probability')\n",
    "plt.title(f'Top {top_k} Predictions for Masked Token')\n",
    "plt.show()"
   ]
  },
  {
   "cell_type": "markdown",
   "id": "0548a367-d777-4e57-9eca-1edc92fc2992",
   "metadata": {},
   "source": [
    "## Question and Answering"
   ]
  },
  {
   "cell_type": "code",
   "execution_count": 40,
   "id": "c07aa603-00e2-4329-8bbe-a0421de2b6a2",
   "metadata": {},
   "outputs": [],
   "source": [
    "context = \"I am good at both chess and boxing\"\n",
    "question = \"What am I good at?\""
   ]
  },
  {
   "cell_type": "code",
   "execution_count": 39,
   "id": "ecf4deea-6727-4674-bd83-621e8be97f17",
   "metadata": {},
   "outputs": [
    {
     "name": "stderr",
     "output_type": "stream",
     "text": [
      "Some weights of the model checkpoint at bert-large-uncased-whole-word-masking-finetuned-squad were not used when initializing BertForQuestionAnswering: ['bert.pooler.dense.bias', 'bert.pooler.dense.weight']\n",
      "- This IS expected if you are initializing BertForQuestionAnswering from the checkpoint of a model trained on another task or with another architecture (e.g. initializing a BertForSequenceClassification model from a BertForPreTraining model).\n",
      "- This IS NOT expected if you are initializing BertForQuestionAnswering from the checkpoint of a model that you expect to be exactly identical (initializing a BertForSequenceClassification model from a BertForSequenceClassification model).\n"
     ]
    },
    {
     "data": {
      "text/plain": [
       "BertForQuestionAnswering(\n",
       "  (bert): BertModel(\n",
       "    (embeddings): BertEmbeddings(\n",
       "      (word_embeddings): Embedding(30522, 1024, padding_idx=0)\n",
       "      (position_embeddings): Embedding(512, 1024)\n",
       "      (token_type_embeddings): Embedding(2, 1024)\n",
       "      (LayerNorm): LayerNorm((1024,), eps=1e-12, elementwise_affine=True)\n",
       "      (dropout): Dropout(p=0.1, inplace=False)\n",
       "    )\n",
       "    (encoder): BertEncoder(\n",
       "      (layer): ModuleList(\n",
       "        (0-23): 24 x BertLayer(\n",
       "          (attention): BertAttention(\n",
       "            (self): BertSdpaSelfAttention(\n",
       "              (query): Linear(in_features=1024, out_features=1024, bias=True)\n",
       "              (key): Linear(in_features=1024, out_features=1024, bias=True)\n",
       "              (value): Linear(in_features=1024, out_features=1024, bias=True)\n",
       "              (dropout): Dropout(p=0.1, inplace=False)\n",
       "            )\n",
       "            (output): BertSelfOutput(\n",
       "              (dense): Linear(in_features=1024, out_features=1024, bias=True)\n",
       "              (LayerNorm): LayerNorm((1024,), eps=1e-12, elementwise_affine=True)\n",
       "              (dropout): Dropout(p=0.1, inplace=False)\n",
       "            )\n",
       "          )\n",
       "          (intermediate): BertIntermediate(\n",
       "            (dense): Linear(in_features=1024, out_features=4096, bias=True)\n",
       "            (intermediate_act_fn): GELUActivation()\n",
       "          )\n",
       "          (output): BertOutput(\n",
       "            (dense): Linear(in_features=4096, out_features=1024, bias=True)\n",
       "            (LayerNorm): LayerNorm((1024,), eps=1e-12, elementwise_affine=True)\n",
       "            (dropout): Dropout(p=0.1, inplace=False)\n",
       "          )\n",
       "        )\n",
       "      )\n",
       "    )\n",
       "  )\n",
       "  (qa_outputs): Linear(in_features=1024, out_features=2, bias=True)\n",
       ")"
      ]
     },
     "execution_count": 39,
     "metadata": {},
     "output_type": "execute_result"
    }
   ],
   "source": [
    "# We now use the question-answer tokenizer\n",
    "qa_tokenizer = BertTokenizer.from_pretrained('bert-large-uncased-whole-word-masking-finetuned-squad')\n",
    "qa_model = BertForQuestionAnswering.from_pretrained(\"bert-large-uncased-whole-word-masking-finetuned-squad\").to(device)\n",
    "qa_model.eval()  # Also setting the model to evaluation mode"
   ]
  },
  {
   "cell_type": "code",
   "execution_count": 41,
   "id": "86fb18a1-5bb7-4abc-afa7-2cc06a10f59f",
   "metadata": {},
   "outputs": [],
   "source": [
    "#Tokenised inputs for the model\n",
    "qa_inputs = qa_tokenizer.encode_plus(\n",
    "    question, context,\n",
    "    add_special_tokens=True,\n",
    "    return_tensors=\"pt\"\n",
    ").to(device)"
   ]
  },
  {
   "cell_type": "code",
   "execution_count": 43,
   "id": "99dfd1c6-f375-4d84-8236-b9b5471d8614",
   "metadata": {},
   "outputs": [
    {
     "data": {
      "text/plain": [
       "['[CLS]',\n",
       " 'what',\n",
       " 'am',\n",
       " 'i',\n",
       " 'good',\n",
       " 'at',\n",
       " '?',\n",
       " '[SEP]',\n",
       " 'i',\n",
       " 'am',\n",
       " 'good',\n",
       " 'at',\n",
       " 'both',\n",
       " 'chess',\n",
       " 'and',\n",
       " 'boxing',\n",
       " '[SEP]']"
      ]
     },
     "execution_count": 43,
     "metadata": {},
     "output_type": "execute_result"
    }
   ],
   "source": [
    "qa_tokens = qa_tokenizer.convert_ids_to_tokens(qa_inputs[\"input_ids\"][0])\n",
    "qa_tokens"
   ]
  },
  {
   "cell_type": "code",
   "execution_count": 44,
   "id": "b1952a17-bb33-4e39-ba6a-8122647d786d",
   "metadata": {},
   "outputs": [],
   "source": [
    "#Generating segment ids\n",
    "input_ids = qa_inputs[\"input_ids\"]\n",
    "token_type_ids = qa_inputs[\"token_type_ids\"]"
   ]
  },
  {
   "cell_type": "code",
   "execution_count": 45,
   "id": "2b164eb1-ae62-442e-bc6a-5f6ae19d1fa7",
   "metadata": {},
   "outputs": [
    {
     "data": {
      "text/plain": [
       "[0, 0, 0, 0, 0, 0, 0, 0, 1, 1, 1, 1, 1, 1, 1, 1, 1]"
      ]
     },
     "execution_count": 45,
     "metadata": {},
     "output_type": "execute_result"
    }
   ],
   "source": [
    "token_type_ids[0].tolist()"
   ]
  },
  {
   "cell_type": "code",
   "execution_count": 46,
   "id": "7883e88c-6daf-427f-9c17-38874dcf98b6",
   "metadata": {},
   "outputs": [],
   "source": [
    "#Getting predictions for answer locations in the context\n",
    "with torch.no_grad():\n",
    "    outputs = qa_model(**qa_inputs)"
   ]
  },
  {
   "cell_type": "code",
   "execution_count": 47,
   "id": "47ab755a-de73-479c-a9b9-495764d0d024",
   "metadata": {},
   "outputs": [],
   "source": [
    "start_logits = outputs.start_logits\n",
    "end_logits = outputs.end_logits"
   ]
  },
  {
   "cell_type": "code",
   "execution_count": 48,
   "id": "b203edea-bfe2-4d68-a033-789379c05663",
   "metadata": {},
   "outputs": [],
   "source": [
    "#Finding the most likely start and end positions\n",
    "start_idx = torch.argmax(start_logits).item()\n",
    "end_idx = torch.argmax(end_logits).item()"
   ]
  },
  {
   "cell_type": "code",
   "execution_count": 50,
   "id": "44fc5ac4-bdda-48a9-9303-b6cfd4645868",
   "metadata": {},
   "outputs": [
    {
     "name": "stdout",
     "output_type": "stream",
     "text": [
      "Predicted answer start position: 13\n",
      "Predicted answer end position: 15\n"
     ]
    }
   ],
   "source": [
    "print(f\"Predicted answer start position: {start_idx}\")\n",
    "print(f\"Predicted answer end position: {end_idx}\")"
   ]
  },
  {
   "cell_type": "code",
   "execution_count": 51,
   "id": "49f644d1-0b66-4921-a48b-8f4ea88c1c69",
   "metadata": {},
   "outputs": [
    {
     "data": {
      "text/plain": [
       "'chess and boxing'"
      ]
     },
     "execution_count": 51,
     "metadata": {},
     "output_type": "execute_result"
    }
   ],
   "source": [
    "#Extracting the answer\n",
    "answer_tokens = qa_inputs[\"input_ids\"][0][start_idx:end_idx+1]\n",
    "answer = qa_tokenizer.decode(answer_tokens)\n",
    "answer"
   ]
  },
  {
   "cell_type": "code",
   "execution_count": 52,
   "id": "1434bbab-555e-4770-b78c-73eca9572a44",
   "metadata": {},
   "outputs": [
    {
     "data": {
      "text/plain": [
       "0.4384024143218994"
      ]
     },
     "execution_count": 52,
     "metadata": {},
     "output_type": "execute_result"
    }
   ],
   "source": [
    "#Evaluating the confidence scores using softmax\n",
    "start_scores = torch.nn.functional.softmax(start_logits, dim=1)[0]\n",
    "end_scores = torch.nn.functional.softmax(end_logits, dim=1)[0]\n",
    "confidence = (start_scores[start_idx] * end_scores[end_idx]).item()\n",
    "confidence"
   ]
  },
  {
   "cell_type": "code",
   "execution_count": 56,
   "id": "4feee704-5473-4605-9743-e8335d1b563f",
   "metadata": {},
   "outputs": [
    {
     "data": {
      "image/png": "[encoded data removed]",
      "text/plain": [
       "<Figure size 1500x800 with 2 Axes>"
      ]
     },
     "metadata": {},
     "output_type": "display_data"
    }
   ],
   "source": [
    "start_probs = torch.nn.functional.softmax(start_logits[0], dim=0).cpu().numpy()\n",
    "end_probs = torch.nn.functional.softmax(end_logits[0], dim=0).cpu().numpy()\n",
    "\n",
    "fig, (ax1, ax2) = plt.subplots(2, 1, figsize=(15, 8))\n",
    "\n",
    "# Plot start position probabilities\n",
    "ax1.bar(range(len(qa_tokens)), start_probs)\n",
    "ax1.set_xticks(range(len(qa_tokens)))\n",
    "ax1.set_xticklabels(qa_tokens, rotation=45)\n",
    "ax1.set_ylabel('Probability')\n",
    "ax1.set_title('Start Position Probabilities')\n",
    "ax1.axvline(x=start_idx, color='r', linestyle='--')\n",
    "\n",
    "# Plot end position probabilities\n",
    "ax2.bar(range(len(qa_tokens)), end_probs)\n",
    "ax2.set_xticks(range(len(qa_tokens)))\n",
    "ax2.set_xticklabels(qa_tokens, rotation=45)\n",
    "ax2.set_ylabel('Probability')\n",
    "ax2.set_title('End Position Probabilities')\n",
    "ax2.axvline(x=end_idx, color='r', linestyle='--')\n",
    "\n",
    "plt.tight_layout()\n",
    "plt.show()"
   ]
  },
  {
   "cell_type": "markdown",
   "id": "f6a0031b-e8a5-439a-8b31-ab218652a4a8",
   "metadata": {},
   "source": [
    "## Trying with a different question"
   ]
  },
  {
   "cell_type": "code",
   "execution_count": 57,
   "id": "4d81ad76-bd55-48d5-bb7d-d75895b42ee6",
   "metadata": {},
   "outputs": [],
   "source": [
    "new_question = \"Am I good at the sport of chess-boxing?\""
   ]
  },
  {
   "cell_type": "code",
   "execution_count": 58,
   "id": "c680d429-3a4c-44f1-8147-d051fdb1f4a0",
   "metadata": {},
   "outputs": [],
   "source": [
    "new_qa_inputs = qa_tokenizer.encode_plus(\n",
    "    new_question, context,\n",
    "    add_special_tokens=True,\n",
    "    return_tensors=\"pt\"\n",
    ").to(device)"
   ]
  },
  {
   "cell_type": "code",
   "execution_count": 59,
   "id": "77c99381-8210-4034-9019-3869f79ec5f4",
   "metadata": {},
   "outputs": [],
   "source": [
    "with torch.no_grad():\n",
    "    new_outputs = qa_model(**new_qa_inputs)"
   ]
  },
  {
   "cell_type": "code",
   "execution_count": 60,
   "id": "bcfc0915-9f3e-42a9-b8c9-0d2447f3f4b6",
   "metadata": {},
   "outputs": [],
   "source": [
    "new_start_idx = torch.argmax(new_outputs.start_logits).item()\n",
    "new_end_idx = torch.argmax(new_outputs.end_logits).item()"
   ]
  },
  {
   "cell_type": "code",
   "execution_count": 61,
   "id": "b7157ba1-f167-443b-816d-7af1d6925fdf",
   "metadata": {},
   "outputs": [],
   "source": [
    "new_start_scores = torch.nn.functional.softmax(new_outputs.start_logits, dim=1)[0]\n",
    "new_end_scores = torch.nn.functional.softmax(new_outputs.end_logits, dim=1)[0]\n",
    "new_confidence = (new_start_scores[new_start_idx] * new_end_scores[new_end_idx]).item()\n"
   ]
  },
  {
   "cell_type": "code",
   "execution_count": 62,
   "id": "99364b86-abfc-473a-af2f-a256b339913d",
   "metadata": {},
   "outputs": [],
   "source": [
    "new_answer_tokens = new_qa_inputs[\"input_ids\"][0][new_start_idx:new_end_idx+1]\n",
    "new_answer = qa_tokenizer.decode(new_answer_tokens)"
   ]
  },
  {
   "cell_type": "code",
   "execution_count": 63,
   "id": "a7a81f15-202d-473f-8e28-da2175d6c8d5",
   "metadata": {},
   "outputs": [
    {
     "data": {
      "text/plain": [
       "'i am good'"
      ]
     },
     "execution_count": 63,
     "metadata": {},
     "output_type": "execute_result"
    }
   ],
   "source": [
    "new_answer"
   ]
  },
  {
   "cell_type": "code",
   "execution_count": 64,
   "id": "21b03a2d-75f8-4624-8fc7-fd1f943db329",
   "metadata": {},
   "outputs": [
    {
     "data": {
      "text/plain": [
       "0.28704220056533813"
      ]
     },
     "execution_count": 64,
     "metadata": {},
     "output_type": "execute_result"
    }
   ],
   "source": [
    "new_confidence"
   ]
  },
  {
   "cell_type": "markdown",
   "id": "a8c995db-049a-4d71-9cdb-7bc2393763a5",
   "metadata": {},
   "source": [
    "## Summary"
   ]
  },
  {
   "cell_type": "markdown",
   "id": "26de6870-8361-4527-b751-c9f8e102b041",
   "metadata": {},
   "source": [
    "This notebook demonstrated two key BERT applications:\n",
    "1. Masked Language Modeling - Successfully predicted masked words\n",
    "2. Question Answering - Found answers to questions within context\n",
    "\n",
    "Thus BERT showed its ability to understand language context and extract relevant information."
   ]
  }
 ],
 "metadata": {
  "kernelspec": {
   "display_name": "Python 3 (ipykernel)",
   "language": "python",
   "name": "python3"
  },
  "language_info": {
   "codemirror_mode": {
    "name": "ipython",
    "version": 3
   },
   "file_extension": ".py",
   "mimetype": "text/x-python",
   "name": "python",
   "nbconvert_exporter": "python",
   "pygments_lexer": "ipython3",
   "version": "3.11.3"
  }
 },
 "nbformat": 4,
 "nbformat_minor": 5
}
